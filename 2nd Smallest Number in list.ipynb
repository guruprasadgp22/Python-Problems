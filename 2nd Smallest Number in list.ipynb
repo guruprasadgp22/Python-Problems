{
 "cells": [
  {
   "cell_type": "code",
   "execution_count": 4,
   "id": "2beae31f",
   "metadata": {
    "scrolled": true
   },
   "outputs": [
    {
     "name": "stdout",
     "output_type": "stream",
     "text": [
      "12 34 21 30 11 20 42\n",
      "List :  [11, 12, 20, 21, 30, 34, 42]\n",
      "Second Smallest element :  12\n"
     ]
    }
   ],
   "source": [
    "li = list(map(int,input().split()))\n",
    "li = list(set(li))\n",
    "li.sort()\n",
    "print(\"List : \", li)\n",
    "print(\"Second Smallest element : \", li[1])"
   ]
  },
  {
   "cell_type": "code",
   "execution_count": null,
   "id": "639bf909",
   "metadata": {},
   "outputs": [],
   "source": []
  }
 ],
 "metadata": {
  "kernelspec": {
   "display_name": "Python 3 (ipykernel)",
   "language": "python",
   "name": "python3"
  },
  "language_info": {
   "codemirror_mode": {
    "name": "ipython",
    "version": 3
   },
   "file_extension": ".py",
   "mimetype": "text/x-python",
   "name": "python",
   "nbconvert_exporter": "python",
   "pygments_lexer": "ipython3",
   "version": "3.11.4"
  }
 },
 "nbformat": 4,
 "nbformat_minor": 5
}
