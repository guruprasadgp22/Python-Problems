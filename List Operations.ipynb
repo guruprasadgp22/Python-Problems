{
 "cells": [
  {
   "cell_type": "code",
   "execution_count": 12,
   "id": "9d78c0fa",
   "metadata": {},
   "outputs": [
    {
     "name": "stdout",
     "output_type": "stream",
     "text": [
      "11\n",
      "insert 0 23\n",
      "insert 1 21\n",
      "insert 0 34\n",
      "print\n",
      "List :  [34, 23, 21]\n",
      "remove 21\n",
      "print\n",
      "List :  [34, 23]\n",
      "sort\n",
      "print\n",
      "List :  [23, 34]\n",
      "append 24\n",
      "print\n",
      "List :  [23, 34, 24]\n",
      "pop\n"
     ]
    }
   ],
   "source": [
    "li = []\n",
    "n = int(input())\n",
    "for i in range(n):\n",
    "    command,*values = input().split()\n",
    "#     print('Command: ',command)\n",
    "#     print('Values:', values)\n",
    "    values = list(map(int,values))\n",
    "    if command == 'insert':\n",
    "        li.insert(values[0], values[1])\n",
    "    elif command == 'remove':\n",
    "        li.remove(values[0])\n",
    "    elif command == 'print':\n",
    "        print(\"List : \", li)\n",
    "    elif command == 'append':\n",
    "        li.append(values[0])\n",
    "    elif command == 'sort':\n",
    "        li.sort()\n",
    "    elif command == 'pop':\n",
    "        li.pop()\n",
    "    elif command == 'reverse':\n",
    "        li.reverse()\n",
    "    else:\n",
    "        print(\"Invalid command\")"
   ]
  },
  {
   "cell_type": "code",
   "execution_count": null,
   "id": "577e7222",
   "metadata": {},
   "outputs": [],
   "source": []
  },
  {
   "cell_type": "code",
   "execution_count": null,
   "id": "c5af4270",
   "metadata": {},
   "outputs": [],
   "source": []
  }
 ],
 "metadata": {
  "kernelspec": {
   "display_name": "Python 3 (ipykernel)",
   "language": "python",
   "name": "python3"
  },
  "language_info": {
   "codemirror_mode": {
    "name": "ipython",
    "version": 3
   },
   "file_extension": ".py",
   "mimetype": "text/x-python",
   "name": "python",
   "nbconvert_exporter": "python",
   "pygments_lexer": "ipython3",
   "version": "3.11.4"
  }
 },
 "nbformat": 4,
 "nbformat_minor": 5
}
