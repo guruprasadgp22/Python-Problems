{
 "cells": [
  {
   "cell_type": "code",
   "execution_count": 2,
   "id": "4ba1e433",
   "metadata": {},
   "outputs": [
    {
     "name": "stdout",
     "output_type": "stream",
     "text": [
      "2\n",
      "guru 122 123 121\n",
      "gp 12 123 12\n",
      "gp\n",
      "49.00\n"
     ]
    }
   ],
   "source": [
    "n = int(input())\n",
    "d = {}\n",
    "for i in range(n):\n",
    "    name, *score = input().split()\n",
    "    score = list(map(float,score))\n",
    "    d[name] = score\n",
    "target_name = input()\n",
    "for name, score in d.items():\n",
    "    if target_name == name:\n",
    "        avg = sum(score)/len(score)\n",
    "print(f'{avg:.2f}')"
   ]
  },
  {
   "cell_type": "code",
   "execution_count": null,
   "id": "ef782655",
   "metadata": {},
   "outputs": [],
   "source": []
  }
 ],
 "metadata": {
  "kernelspec": {
   "display_name": "Python 3 (ipykernel)",
   "language": "python",
   "name": "python3"
  },
  "language_info": {
   "codemirror_mode": {
    "name": "ipython",
    "version": 3
   },
   "file_extension": ".py",
   "mimetype": "text/x-python",
   "name": "python",
   "nbconvert_exporter": "python",
   "pygments_lexer": "ipython3",
   "version": "3.11.4"
  }
 },
 "nbformat": 4,
 "nbformat_minor": 5
}
