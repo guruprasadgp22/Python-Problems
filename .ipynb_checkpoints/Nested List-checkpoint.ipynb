{
 "cells": [
  {
   "cell_type": "code",
   "execution_count": 19,
   "id": "b1ae2e4c",
   "metadata": {},
   "outputs": [
    {
     "name": "stdout",
     "output_type": "stream",
     "text": [
      "4\n",
      "gp\n",
      "23\n",
      "gps\n",
      "23\n",
      "gps\n",
      "21\n",
      "guru\n",
      "10\n",
      "gps\n"
     ]
    }
   ],
   "source": [
    "n = int(input())\n",
    "\n",
    "li = []\n",
    "scores = []\n",
    "names = []\n",
    "\n",
    "for i in range(n):\n",
    "    name = input()\n",
    "    score = float(input())\n",
    "\n",
    "    li.append([name,score])\n",
    "    scores.append(score)\n",
    "\n",
    "scores=list(set(scores))\n",
    "scores.sort(reverse = True)\n",
    "second_smallest = scores[-2]\n",
    "\n",
    "for name,score in li:\n",
    "    if second_smallest == score:\n",
    "        names.append(name)\n",
    "        \n",
    "names.sort()\n",
    "\n",
    "for i in names:\n",
    "    print(i)"
   ]
  },
  {
   "cell_type": "code",
   "execution_count": null,
   "id": "deb615b9",
   "metadata": {},
   "outputs": [],
   "source": []
  }
 ],
 "metadata": {
  "kernelspec": {
   "display_name": "Python 3 (ipykernel)",
   "language": "python",
   "name": "python3"
  },
  "language_info": {
   "codemirror_mode": {
    "name": "ipython",
    "version": 3
   },
   "file_extension": ".py",
   "mimetype": "text/x-python",
   "name": "python",
   "nbconvert_exporter": "python",
   "pygments_lexer": "ipython3",
   "version": "3.11.4"
  }
 },
 "nbformat": 4,
 "nbformat_minor": 5
}
