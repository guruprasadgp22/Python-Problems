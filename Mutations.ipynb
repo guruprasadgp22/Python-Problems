{
 "cells": [
  {
   "cell_type": "code",
   "execution_count": 3,
   "id": "d45e3803",
   "metadata": {},
   "outputs": [
    {
     "name": "stdout",
     "output_type": "stream",
     "text": [
      "Guruprasad\n",
      "5\n",
      "v\n",
      "Gurupvasad\n"
     ]
    }
   ],
   "source": [
    "s = input()\n",
    "position = int(input())\n",
    "character = input()\n",
    "li = list(s)\n",
    "for i in li:\n",
    "    if i == li[position]:\n",
    "        li[position] = character\n",
    "print(''.join(li))"
   ]
  },
  {
   "cell_type": "code",
   "execution_count": null,
   "id": "a4a03514",
   "metadata": {},
   "outputs": [],
   "source": []
  }
 ],
 "metadata": {
  "kernelspec": {
   "display_name": "Python 3 (ipykernel)",
   "language": "python",
   "name": "python3"
  },
  "language_info": {
   "codemirror_mode": {
    "name": "ipython",
    "version": 3
   },
   "file_extension": ".py",
   "mimetype": "text/x-python",
   "name": "python",
   "nbconvert_exporter": "python",
   "pygments_lexer": "ipython3",
   "version": "3.11.4"
  }
 },
 "nbformat": 4,
 "nbformat_minor": 5
}
